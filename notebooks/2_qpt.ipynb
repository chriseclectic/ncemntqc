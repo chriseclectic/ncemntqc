{
 "cells": [
  {
   "cell_type": "markdown",
   "metadata": {},
   "source": [
    "# Special Session: Noise Characterization and Error Mitigation in Near-Term Quanutm Computers\n",
    "\n",
    "* Christopher J. Wood (cjwood@us.ibm.com)\n",
    "* IBM Quantum, T. J. Watson Research Center, Yorktown Heights, USA\n",
    "\n",
    "This notebook contains the accompanying code to the ICCD 2020 special session proceeding *Noise Characterization and Error Mitigation in Near-Term Quantum Computers*."
   ]
  },
  {
   "cell_type": "markdown",
   "metadata": {},
   "source": [
    "## 2. Quantum Process Tomography\n",
    "\n",
    "This notebook demonstrates performing quantum process tomography (QPT) of a noisy implementation of a random 2-qubit unitary gate on both a real device and a noisy simulator using Qiskit."
   ]
  },
  {
   "cell_type": "code",
   "execution_count": null,
   "metadata": {},
   "outputs": [],
   "source": [
    "# Qiskit Modules\n",
    "import qiskit\n",
    "import qiskit.quantum_info as qi\n",
    "import qiskit.ignis.verification.tomography as tomo\n",
    "\n",
    "# Noisy Simulation\n",
    "from qiskit.providers.aer import QasmSimulator\n",
    "from qiskit.providers.aer.noise import NoiseModel\n",
    "\n",
    "# Plotting\n",
    "import numpy as np\n",
    "import matplotlib.pyplot as plt\n",
    "\n",
    "# File utilities for saving and loading JSON data\n",
    "from file_utils import save_to_json, load_properties, load_result"
   ]
  },
  {
   "cell_type": "markdown",
   "metadata": {},
   "source": [
    "### Generate a random 2-qubit unitary\n",
    "\n",
    "First we generate a random 2-qubit unitary matrix. This may be done using the `random_unitary` function from the `quantum_info` module."
   ]
  },
  {
   "cell_type": "code",
   "execution_count": null,
   "metadata": {},
   "outputs": [],
   "source": [
    "su4 = qi.random_unitary(4, seed=42)\n",
    "print(su4)"
   ]
  },
  {
   "cell_type": "markdown",
   "metadata": {},
   "source": [
    "### Decompose the unitary into CX and single-qubit gates\n",
    "\n",
    "Next we create a quantum circuit containing the single 2-qubit unitary gate and use the *transpiler* to `transpile` it into a set of basis gates that may be run on a backend. The set of basis gates we will use is the Controlled-X gate and single qubit gates u1, u2, u3."
   ]
  },
  {
   "cell_type": "code",
   "execution_count": null,
   "metadata": {},
   "outputs": [],
   "source": [
    "circuit = qiskit.QuantumCircuit(2).compose(su4, [0, 1])\n",
    "circuit = qiskit.transpile(circuit, basis_gates=['u1', 'u2', 'u3', 'cx'])\n",
    "circuit.draw('mpl').savefig('figures/su4_circuit.png', dpi=150)\n",
    "circuit.draw('mpl')"
   ]
  },
  {
   "cell_type": "markdown",
   "metadata": {},
   "source": [
    "#### Construct QPT circuits\n",
    "\n",
    "Next we generate the quantum process tomography circuits using the `tomography` module of *qiskit-ignis*. This generates 144 circuits which prepare each qubit in one of the 4 basis states $|0\\rangle, |1\\rangle, |+\\rangle, |-\\rangle$, and measures each qubit in one of the 3 pauli bases $X, Y, Z$."
   ]
  },
  {
   "cell_type": "code",
   "execution_count": null,
   "metadata": {},
   "outputs": [],
   "source": [
    "tomo_circuits = tomo.process_tomography_circuits(circuit, [0, 1])"
   ]
  },
  {
   "cell_type": "markdown",
   "metadata": {},
   "source": [
    "An example of one of the individual measurements circuits is shown below"
   ]
  },
  {
   "cell_type": "code",
   "execution_count": null,
   "metadata": {},
   "outputs": [],
   "source": [
    "tomo_circuits[-1].draw('mpl')"
   ]
  },
  {
   "cell_type": "markdown",
   "metadata": {},
   "source": [
    "### Run Experiment\n",
    "\n",
    "Next execute the QPT circuits on the IBM Quantum Boeblingen backend. You may change this to run on any IBM Quantum backend you have access to."
   ]
  },
  {
   "cell_type": "code",
   "execution_count": null,
   "metadata": {},
   "outputs": [],
   "source": [
    "use_saved_data = True\n",
    "file_properties = 'data/properties_qpt_v1.json'\n",
    "file_result = 'data/result_qpt_v1.json'\n",
    "\n",
    "if use_saved_data:\n",
    "\n",
    "    # Load saved result data from file\n",
    "    result_backend = load_result(file_result)\n",
    "    \n",
    "    # Load saved properties from file\n",
    "    properties = load_properties(file_properties)\n",
    "\n",
    "else:\n",
    "\n",
    "    # Load IBMQ Account data\n",
    "    from qiskit import IBMQ\n",
    "    IBMQ.load_account()\n",
    "\n",
    "    # Get backend for experiment\n",
    "    provider = IBMQ.get_provider(project='ignis')\n",
    "    backend = provider.get_backend('ibmq_boeblingen')\n",
    "    shots = 8192\n",
    "\n",
    "    # Run QPT on backend\n",
    "    job_backend = qiskit.execute(tomo_circuits, backend, shots=shots)\n",
    "    print('Job ID: {}'.format(job_backend.job_id()))\n",
    "\n",
    "    # Save a copy of the backend properties to file\n",
    "    properties = backend.properties()\n",
    "    save_to_json(properties, file_properties)\n",
    "          \n",
    "    # Retrieve results (this may take a while depending on the queue)\n",
    "    result_backend = job_backend.result()\n",
    "    \n",
    "    # Save a copy of the result data to file\n",
    "    save_to_json(result_backend, file_result)    "
   ]
  },
  {
   "cell_type": "markdown",
   "metadata": {},
   "source": [
    "### Run Simulation\n",
    "\n",
    "Next we run the QPT using the Qiskit Aer simulator with the basic device noise model based on the backend used to run the experiment"
   ]
  },
  {
   "cell_type": "code",
   "execution_count": null,
   "metadata": {},
   "outputs": [],
   "source": [
    "# Simulator backend\n",
    "simulator = QasmSimulator()\n",
    "shots = 8192\n",
    "seed_simulator = 12345\n",
    "\n",
    "# Noise Model\n",
    "noise_model = NoiseModel.from_backend(properties, warnings=False)\n",
    "\n",
    "result_sim = qiskit.execute(tomo_circuits,\n",
    "                            simulator,\n",
    "                            shots=shots,\n",
    "                            seed_simulator=seed_simulator,\n",
    "                            basis_gates=noise_model.basis_gates,\n",
    "                            noise_model=noise_model).result()"
   ]
  },
  {
   "cell_type": "markdown",
   "metadata": {},
   "source": [
    "## Fitting Results\n",
    "\n",
    "Next we perform the tomographic fit to reconstruct the noisy quantum channel from the result data. This is done using the `ProcessTomographyFitter` from the `tomography` module."
   ]
  },
  {
   "cell_type": "code",
   "execution_count": null,
   "metadata": {},
   "outputs": [],
   "source": [
    "choi_backend = tomo.ProcessTomographyFitter(\n",
    "    result_backend, tomo_circuits).fit(method='cvx', solver='CVXOPT')\n",
    "\n",
    "choi_sim = tomo.ProcessTomographyFitter(\n",
    "    result_sim, tomo_circuits).fit(method='cvx', solver='CVXOPT')"
   ]
  },
  {
   "cell_type": "markdown",
   "metadata": {},
   "source": [
    "To extract the error channel we can compose the reconstructed channel with the inverse of the ideal channel and compute the average gate fidelity"
   ]
  },
  {
   "cell_type": "code",
   "execution_count": null,
   "metadata": {},
   "outputs": [],
   "source": [
    "choi_error_backend = choi_backend.dot(su4.adjoint())\n",
    "F_backend = qi.average_gate_fidelity(choi_error_backend)\n",
    "\n",
    "choi_error_sim = choi_sim.dot(su4.adjoint())\n",
    "F_sim = qi.average_gate_fidelity(choi_error_sim)\n",
    "\n",
    "print('Average Gate Fidelity\\n')\n",
    "print('F({}) = {:.3f}'.format(properties.backend_name, F_backend))\n",
    "print('F(simulator) = {:.3f}'.format(F_sim))"
   ]
  },
  {
   "cell_type": "markdown",
   "metadata": {},
   "source": [
    "## Gate Error Plot\n",
    "\n",
    "To visualize the error in the reconstructed channel we convert the error channel into the *Pauli transfer matrix* representation. In the ideal case this is an identity channel, so we subtract the identity channel to visualize the difference $|\\mathcal{R} - \\mathcal{I}|$."
   ]
  },
  {
   "cell_type": "code",
   "execution_count": null,
   "metadata": {},
   "outputs": [],
   "source": [
    "diff_ptm_b = np.abs(qi.PTM(choi_error_backend).data.real - np.eye(16))\n",
    "diff_ptm_s = np.abs(qi.PTM(choi_error_sim).data.real - np.eye(16))\n",
    "\n",
    "fig, axes = plt.subplots(nrows=1, ncols=2, figsize=(12, 4.5))\n",
    "\n",
    "im = axes.flat[0].matshow(diff_ptm_b, cmap=plt.cm.Reds, vmin=0, vmax=0.2)\n",
    "im = axes.flat[1].matshow(diff_ptm_s, cmap=plt.cm.Reds, vmin=0, vmax=0.2)\n",
    "\n",
    "axes.flat[0].set_xlabel(r'$|\\mathcal{R} - \\mathcal{I}|$ Experiment', fontsize=16)\n",
    "axes.flat[1].set_xlabel(r'$|\\mathcal{R} - \\mathcal{I}|$ Simulated', fontsize=16)\n",
    "\n",
    "for ax in axes.flat:\n",
    "    ax.set_yticks(np.arange(16))\n",
    "    ax.set_xticks(np.arange(16))\n",
    "    ax.set_yticklabels(16 * [''])\n",
    "    ax.set_xticklabels(16 * [''])\n",
    "axes.flat[0].set_xlabel(r'$|\\mathcal{R} - I|$ Experiment', fontsize=16)\n",
    "axes.flat[1].set_xlabel(r'$|\\mathcal{R} - I|$ Simulated', fontsize=16)\n",
    "\n",
    "fig.colorbar(im, ax=axes.ravel())\n",
    "fig.savefig('figures/qpt_ptm_diff.png', dpi=150)\n",
    "plt.show()"
   ]
  },
  {
   "cell_type": "code",
   "execution_count": null,
   "metadata": {},
   "outputs": [],
   "source": [
    "import qiskit.tools.jupyter\n",
    "%qiskit_version_table"
   ]
  }
 ],
 "metadata": {
  "kernelspec": {
   "display_name": "Python [conda env:ncemntqc]",
   "language": "python",
   "name": "conda-env-ncemntqc-py"
  },
  "language_info": {
   "codemirror_mode": {
    "name": "ipython",
    "version": 3
   },
   "file_extension": ".py",
   "mimetype": "text/x-python",
   "name": "python",
   "nbconvert_exporter": "python",
   "pygments_lexer": "ipython3",
   "version": "3.7.9"
  }
 },
 "nbformat": 4,
 "nbformat_minor": 4
}
