{
 "cells": [
  {
   "cell_type": "markdown",
   "metadata": {},
   "source": [
    "# Special Session: Noise Characterization and Error Mitigation in Near-Term Quanutm Computers\n",
    "\n",
    "* Christopher J. Wood (cjwood@us.ibm.com)\n",
    "* IBM Quantum, T. J. Watson Research Center, Yorktown Heights, USA\n",
    "\n",
    "This notebook contains the accompanying code to the ICCD 2020 special session proceeding *Noise Characterization and Error Mitigation in Near-Term Quantum Computers*."
   ]
  },
  {
   "cell_type": "markdown",
   "metadata": {},
   "source": [
    "## 4.Measurement Error Mitigation\n",
    "\n",
    "This notebook demonstrates performing measurement error mitigation on stabilizer graph state fidelity estimates on a 4-qubit subset of an IBM Quantum device using the continous-time Markov Process (CTPM) error mitigation technique.\n",
    "\n",
    "*Note: this uses code in a development branch of qiskit-ignis. This branch can be installed using the `environment.yml` or `requirements.txt` file in this repository.*"
   ]
  },
  {
   "cell_type": "code",
   "execution_count": 1,
   "metadata": {},
   "outputs": [],
   "source": [
    "# Qiskit Module\n",
    "import qiskit\n",
    "import qiskit.quantum_info as qi\n",
    "import qiskit.ignis.mitigation as mit\n",
    "\n",
    "# Noisy Simulation\n",
    "from qiskit.providers.aer import QasmSimulator\n",
    "from qiskit.providers.aer.noise import NoiseModel\n",
    "from qiskit.providers.aer.utils import insert_noise\n",
    "\n",
    "# File utilities for saving and loading JSON data\n",
    "from file_utils import save_to_json, load_properties, load_result\n",
    "\n",
    "# Other\n",
    "from pprint import pprint\n",
    "import numpy as np\n",
    "import matplotlib.pyplot as plt\n",
    "import seaborn as sns"
   ]
  },
  {
   "cell_type": "markdown",
   "metadata": {},
   "source": [
    "### Helper functions\n",
    "\n",
    "The following helper functions are used to generate stabilzier measurement circuits and compute expectation values from result data."
   ]
  },
  {
   "cell_type": "code",
   "execution_count": 2,
   "metadata": {},
   "outputs": [],
   "source": [
    "def stabilizer_measure_circuit(stabilizer, initial_circuit=None):\n",
    "    \"\"\"Return a stabilizer measurement cirucits.\n",
    "    \n",
    "    Args:\n",
    "        stabilizer (str): a stabilizer string\n",
    "        initial_circuit (QuantumCircuit): Optional, the initial circuit.\n",
    "    \n",
    "    Returns:\n",
    "        QuantumCircuit: the circuit with stabilizer measurements.\n",
    "    \"\"\"\n",
    "    if stabilizer[0] in ['+', '-']:\n",
    "        stab = stabilizer[1:]\n",
    "    else:\n",
    "        stab = stabilizer\n",
    "\n",
    "    if initial_circuit is None:\n",
    "        circ = QuantumCircuit(len(stab))\n",
    "    else:\n",
    "        circ = initial_circuit.copy()\n",
    "\n",
    "    for i, s in enumerate(reversed(stab)):\n",
    "        if s == 'X':\n",
    "            circ.h(i)\n",
    "    circ.measure_all()\n",
    "    return circ\n",
    "\n",
    "\n",
    "def stabilizer_measure_diagonal(stabilizer):\n",
    "    \"\"\"Return the diagonal vector for a stabilizer measurement.\n",
    "    \n",
    "    Args:\n",
    "        stabilizer (str): a stabilizer string\n",
    "    \n",
    "    Returns:\n",
    "        np.ndarray: the diagonal for measurement in the stabilizer basis.\n",
    "    \"\"\"\n",
    "    if stabilizer[0] in ['+', '-']:\n",
    "        stab = stabilizer[1:]\n",
    "    else:\n",
    "        stab = stabilizer\n",
    "        \n",
    "    diag = np.array([1])\n",
    "    for s in reversed(stab):\n",
    "        if s == 'I':\n",
    "            tmp = np.array([1, 1])\n",
    "        else:\n",
    "            tmp = np.array([1, -1])\n",
    "        diag = np.kron(tmp, diag)\n",
    "    return diag\n",
    "\n",
    "\n",
    "def stabilizer_expvals(result, stabilizers, mitigator=None):\n",
    "    \"\"\"Compute expectation values from stabilizer measurement results.\"\"\"\n",
    "\n",
    "    stabilizer_diagonals = [\n",
    "        stabilizer_measure_diagonal(stab) for stab in stabilizers]\n",
    "\n",
    "    expvals_error = [\n",
    "        mit.expectation_value(result.get_counts(i),\n",
    "                              diagonal=stabilizer_measure_diagonal(stab),\n",
    "                              mitigator=mitigator)\n",
    "        for i, stab in enumerate(stabilizers)]\n",
    "\n",
    "    return expvals_error\n",
    "\n",
    "    \n",
    "def stabilizer_fidelity(expvals):\n",
    "    \"\"\"Compute stabilizer state fidelity from stabilizer expvals.\"\"\"\n",
    "    mean = np.mean([i[0] for i in expvals])\n",
    "    stddev = np.sqrt(np.sum([i[1] ** 2 for i in expvals]))\n",
    "    return mean, stddev"
   ]
  },
  {
   "cell_type": "markdown",
   "metadata": {},
   "source": [
    "## Graph State Circuit\n",
    "\n",
    "We will estimate the state fidelity of preparing an entangled 4-qubit graph state by computing the expectation values of the graph state stabilizers. First we prepare a 4-qubit graph state quantum circuit"
   ]
  },
  {
   "cell_type": "code",
   "execution_count": 3,
   "metadata": {},
   "outputs": [
    {
     "data": {
      "image/png": "[encoded data removed]",
      "text/plain": [
       "<Figure size 441.777x264.88 with 1 Axes>"
      ]
     },
     "execution_count": 3,
     "metadata": {},
     "output_type": "execute_result"
    }
   ],
   "source": [
    "num_qubits = 4\n",
    "coupling_graph = [[0, 1], [1, 2], [2, 3]]\n",
    "\n",
    "state_circuit = qiskit.QuantumCircuit(num_qubits)\n",
    "state_circuit.h(range(num_qubits))\n",
    "for i, j in coupling_graph:\n",
    "    state_circuit.cz(i, j)\n",
    "state_circuit.h(range(num_qubits))\n",
    "state_circuit.draw('mpl')"
   ]
  },
  {
   "cell_type": "markdown",
   "metadata": {},
   "source": [
    "### Stabilizer Measurement Circuits\n",
    "\n",
    "Next we compute the set of stabilizers for the graph state using the `Clifford` class from the `quantum_info` module, and then convert these into measurement circuits"
   ]
  },
  {
   "cell_type": "code",
   "execution_count": 4,
   "metadata": {},
   "outputs": [
    {
     "name": "stdout",
     "output_type": "stream",
     "text": [
      "Stabilizers: ['IIXZ', 'IXZX', 'XZXI', 'ZXII']\n"
     ]
    }
   ],
   "source": [
    "clifford = qi.Clifford(state_circuit)\n",
    "stabilizers = clifford.stabilizer.pauli.to_labels()\n",
    "print('Stabilizers:', stabilizers)"
   ]
  },
  {
   "cell_type": "code",
   "execution_count": 5,
   "metadata": {},
   "outputs": [],
   "source": [
    "stabilizer_circuits = [stabilizer_measure_circuit(stab, state_circuit)\n",
    "                       for stab in stabilizers]"
   ]
  },
  {
   "cell_type": "markdown",
   "metadata": {},
   "source": [
    "### Measurement Error Characterization Circuits\n",
    "\n",
    "We also need to run the measurement error characterization circuits as outlined in the previous notebook."
   ]
  },
  {
   "cell_type": "code",
   "execution_count": 6,
   "metadata": {},
   "outputs": [],
   "source": [
    "labels = ['0000', '0011', '0101', '1001', '0110', '1010', '1100', '1111']\n",
    "meas_cal_circuits, metadata, _ = mit.MeasMitigatorGenerator(4, labels=labels).run()"
   ]
  },
  {
   "cell_type": "markdown",
   "metadata": {},
   "source": [
    "### Run Experiment\n",
    "\n",
    "Next execute the circuits on the IBM Quantum Boeblingen backend. You may change this to run on any IBM Quantum backend you have access to."
   ]
  },
  {
   "cell_type": "code",
   "execution_count": 7,
   "metadata": {},
   "outputs": [],
   "source": [
    "use_saved_data = True\n",
    "file_properties = 'data/properties_stab_v1.json'\n",
    "file_result = 'data/result_stab_v1.json'\n",
    "file_result_mit = 'data/result_stab_mit_v1.json'\n",
    "\n",
    "if use_saved_data:\n",
    "\n",
    "    # Load saved result data from file\n",
    "    result_backend = load_result(file_result)\n",
    "    result_mit_backend = load_result(file_result_mit)\n",
    "\n",
    "    # Load saved properties from file\n",
    "    properties = load_properties(file_properties)\n",
    "\n",
    "else:\n",
    "\n",
    "    # Load IBMQ Account data\n",
    "    from qiskit import IBMQ\n",
    "    IBMQ.load_account()\n",
    "\n",
    "    # Get backend for experiment\n",
    "    provider = IBMQ.get_provider(project='ignis')\n",
    "    backend = provider.get_backend('ibmq_boeblingen')\n",
    "\n",
    "    # Run QPT on backend\n",
    "    shots = 8192\n",
    "    job_mit_backend = qiskit.execute(meas_cal_circuits, backend, shots=shots)\n",
    "    job_backend = qiskit.execute(stabilizer_circuits, backend, shots=shots)\n",
    "    print('Job IDs: {}'.format([job_mit_backend.job_id(), job_backend.job_id()]))\n",
    "\n",
    "    # Save a copy of the backend properties to file\n",
    "    properties = backend.properties()\n",
    "    save_to_json(properties, file_properties)\n",
    "\n",
    "    # Retrieve results (this may take a while depending on the queue)\n",
    "    result_mit_backend = job_mit_backend.result()\n",
    "    result_backend = job_backend.result()\n",
    "    \n",
    "    # Save a copy of the result data to file\n",
    "    save_to_json(result_backend, file_result)    \n",
    "    save_to_json(result_mit_backend, file_result_mit)    "
   ]
  },
  {
   "cell_type": "markdown",
   "metadata": {},
   "source": [
    "### Run Simulation\n",
    "\n",
    "Next we run the characterization experiment using the Qiskit Aer simulator with the basic device noise model based on the backend used to run the experiment"
   ]
  },
  {
   "cell_type": "code",
   "execution_count": 8,
   "metadata": {},
   "outputs": [],
   "source": [
    "# Simulator backend\n",
    "simulator = QasmSimulator()\n",
    "shots = 8192\n",
    "seed_simulator = 1984\n",
    "\n",
    "# Noise Model\n",
    "noise_model = NoiseModel.from_backend(properties, warnings=False)\n",
    "\n",
    "# Run simulation\n",
    "result_sim = qiskit.execute(stabilizer_circuits,\n",
    "                            simulator,\n",
    "                            shots=shots,\n",
    "                            seed_simulator=seed_simulator,\n",
    "                            basis_gates=noise_model.basis_gates,\n",
    "                            noise_model=noise_model).result()\n",
    "\n",
    "result_mit_sim = qiskit.execute(meas_cal_circuits,\n",
    "                                simulator,\n",
    "                                shots=shots,\n",
    "                                seed_simulator=seed_simulator,\n",
    "                                basis_gates=noise_model.basis_gates,\n",
    "                                noise_model=noise_model).result()"
   ]
  },
  {
   "cell_type": "markdown",
   "metadata": {},
   "source": [
    "## Measurement Error Mitigated Expectation Values\n",
    "\n",
    "Next we use our helper functions to compute the exectation values for each stabilzier measurement with and without using the measurement error mitigator. This makes use of the `expectation_value` function from the `mitigation` module."
   ]
  },
  {
   "cell_type": "code",
   "execution_count": 9,
   "metadata": {},
   "outputs": [],
   "source": [
    "# Fit measurement error mitigators\n",
    "mitigator_backend = mit.MeasMitigatorFitter(result_mit_backend, metadata).fit()\n",
    "mitigator_sim = mit.MeasMitigatorFitter(result_mit_sim, metadata).fit()\n",
    "\n",
    "# Unmitigated Expectation Values \n",
    "expvals_nomit_backend = stabilizer_expvals(result_backend, stabilizers)\n",
    "expvals_nomit_sim = stabilizer_expvals(result_sim, stabilizers)\n",
    "\n",
    "# Measurement error mitigated expectation values\n",
    "expvals_mit_backend = stabilizer_expvals(result_backend, stabilizers,\n",
    "                                         mitigator=mitigator_backend)\n",
    "expvals_mit_sim = stabilizer_expvals(result_sim, stabilizers,\n",
    "                                     mitigator=mitigator_sim)"
   ]
  },
  {
   "cell_type": "markdown",
   "metadata": {},
   "source": [
    "### Stabilizer Expectation Value Plot"
   ]
  },
  {
   "cell_type": "code",
   "execution_count": 10,
   "metadata": {},
   "outputs": [
    {
     "data": {
      "image/png": "[encoded data removed]",
      "text/plain": [
       "<Figure size 432x288 with 1 Axes>"
      ]
     },
     "metadata": {
      "needs_background": "light"
     },
     "output_type": "display_data"
    }
   ],
   "source": [
    "vals_nomit_b = [i[0] for i in expvals_nomit_backend]\n",
    "vals_mit_b = [i[0] for i in expvals_mit_backend]\n",
    "vals_nomit_s = [i[0] for i in expvals_nomit_sim]\n",
    "vals_mit_s = [i[0] for i in expvals_mit_sim]\n",
    "\n",
    "colors1 = sns.color_palette(\"BuGn_r\")\n",
    "colors2 = sns.color_palette(\"GnBu_d\")\n",
    "\n",
    "labels = stabilizers\n",
    "x = np.arange(len(labels))\n",
    "width = 0.2\n",
    "\n",
    "label_nomit_b = 'Unmitigated (experiment)'\n",
    "label_mit_b = 'Mitigated (experiment)'\n",
    "label_nomit_s = 'Unmitigated (simulated)'\n",
    "label_mit_s = 'Mitigated (simulated)'\n",
    "\n",
    "fig, ax = plt.subplots()\n",
    "ax.bar(x - 3 * width / 2, vals_nomit_b, width, label=label_nomit_b, color=colors1[0])\n",
    "ax.bar(x - width / 2, vals_mit_b, width, label=label_mit_b, color=colors1[2])\n",
    "ax.bar(x + width / 2, vals_nomit_s, width, label=label_nomit_s, color=colors2[0])\n",
    "ax.bar(x + 3 * width / 2, vals_mit_s, width, label=label_mit_s, color=colors2[2])\n",
    "\n",
    "# Add some text for labels, title and custom x-axis tick labels, etc.\n",
    "ax.set_ylabel(r'Expectation Value $\\langle S\\rangle$', fontsize=14)\n",
    "ax.set_xlabel('Stabilizer', fontsize=14)\n",
    "ax.set_xticks(x)\n",
    "ax.set_xticklabels(labels, fontsize=14)\n",
    "ax.set_ylim(0.5, 1.05)\n",
    "ax.legend(loc='lower right', fontsize=13, framealpha=1)\n",
    "fig.savefig('figures/expval_mit.png', dpi=150)"
   ]
  },
  {
   "cell_type": "markdown",
   "metadata": {},
   "source": [
    "## Measurement Error Mitigated State Fidelity\n",
    "\n",
    "Finally we can use the mitigated expectation values to estimate the error mitigated state fidelity of the prepared graph state"
   ]
  },
  {
   "cell_type": "code",
   "execution_count": 11,
   "metadata": {},
   "outputs": [
    {
     "name": "stdout",
     "output_type": "stream",
     "text": [
      "Graph-state fidelity estimates\n",
      "\n",
      "No mitigation\n",
      "F(ibmq_boeblingen) = 0.823 ± 0.012\n",
      "F(simulated) = 0.849 ± 0.012\n",
      "\n",
      "CTMP error mitigation\n",
      "F(ibmq_boeblingen) = 0.940 ± 0.031\n",
      "F(simulated) = 0.988 ± 0.031\n"
     ]
    }
   ],
   "source": [
    "F_nomit_backend = stabilizer_fidelity(expvals_nomit_backend)\n",
    "F_nomit_sim = stabilizer_fidelity(expvals_nomit_sim)\n",
    "F_mit_backend = stabilizer_fidelity(expvals_mit_backend)\n",
    "F_mit_sim = stabilizer_fidelity(expvals_mit_sim)\n",
    "\n",
    "print('Graph-state fidelity estimates')\n",
    "print('\\nNo mitigation')\n",
    "print('F({}) = {:.3f} \\u00B1 {:.3f}'.format(\n",
    "    properties.backend_name, F_nomit_backend[0], F_nomit_backend[1]))\n",
    "print('F(simulated) = {:.3f} \\u00B1 {:.3f}'.format(\n",
    "    F_nomit_sim[0], F_nomit_sim[1]))\n",
    "\n",
    "print('\\nCTMP error mitigation')\n",
    "print('F({}) = {:.3f} \\u00B1 {:.3f}'.format(\n",
    "    properties.backend_name, F_mit_backend[0], F_mit_backend[1]))\n",
    "print('F(simulated) = {:.3f} \\u00B1 {:.3f}'.format(\n",
    "    F_mit_sim[0], F_mit_sim[1]))"
   ]
  },
  {
   "cell_type": "markdown",
   "metadata": {},
   "source": [
    "### Exact state fidelity for simulated case\n",
    "\n",
    "For the simualted case we can compare the mitigated fidelity estimate to the exact value computed from the device noise model without measurement error"
   ]
  },
  {
   "cell_type": "code",
   "execution_count": 12,
   "metadata": {},
   "outputs": [
    {
     "name": "stdout",
     "output_type": "stream",
     "text": [
      "Exact State Fidelity\n",
      "F(simulated) = 0.971\n"
     ]
    }
   ],
   "source": [
    "state_circuit_noise = insert_noise(state_circuit, noise_model, transpile=True)\n",
    "ideal_state = qi.Statevector.from_instruction(state_circuit)\n",
    "noisy_state = qi.DensityMatrix.from_instruction(state_circuit_noise)\n",
    "F_exact_sim = qi.state_fidelity(noisy_state, ideal_state)\n",
    "\n",
    "print('Exact State Fidelity')\n",
    "print('F(simulated) = {:.3f}'.format(F_exact_sim))"
   ]
  },
  {
   "cell_type": "code",
   "execution_count": 13,
   "metadata": {},
   "outputs": [
    {
     "data": {
      "text/html": [
       "<h3>Version Information</h3><table><tr><th>Qiskit Software</th><th>Version</th></tr><tr><td>Qiskit</td><td>None</td></tr><tr><td>Terra</td><td>0.15.2</td></tr><tr><td>Aer</td><td>0.6.1</td></tr><tr><td>Ignis</td><td>0.5.0</td></tr><tr><td>Aqua</td><td>None</td></tr><tr><td>IBM Q Provider</td><td>0.8.0</td></tr><tr><th>System information</th></tr><tr><td>Python</td><td>3.7.9 (default, Aug 31 2020, 07:22:35) \n",
       "[Clang 10.0.0 ]</td></tr><tr><td>OS</td><td>Darwin</td></tr><tr><td>CPUs</td><td>6</td></tr><tr><td>Memory (Gb)</td><td>32.0</td></tr><tr><td colspan='2'>Tue Sep 15 22:48:27 2020 EDT</td></tr></table>"
      ],
      "text/plain": [
       "<IPython.core.display.HTML object>"
      ]
     },
     "metadata": {},
     "output_type": "display_data"
    }
   ],
   "source": [
    "import qiskit.tools.jupyter\n",
    "%qiskit_version_table"
   ]
  }
 ],
 "metadata": {
  "kernelspec": {
   "display_name": "Python [conda env:ncemntqc]",
   "language": "python",
   "name": "conda-env-ncemntqc-py"
  },
  "language_info": {
   "codemirror_mode": {
    "name": "ipython",
    "version": 3
   },
   "file_extension": ".py",
   "mimetype": "text/x-python",
   "name": "python",
   "nbconvert_exporter": "python",
   "pygments_lexer": "ipython3",
   "version": "3.7.9"
  }
 },
 "nbformat": 4,
 "nbformat_minor": 4
}
