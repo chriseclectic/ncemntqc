{
 "cells": [
  {
   "cell_type": "markdown",
   "metadata": {},
   "source": [
    "# Special Session: Noise Characterization and Error Mitigation in Near-Term Quanutm Computers\n",
    "\n",
    "* Christopher J. Wood (cjwood@us.ibm.com)\n",
    "* IBM Quantum, T. J. Watson Research Center, Yorktown Heights, USA\n",
    "\n",
    "This notebook contains the accompanying code to the ICCD 2020 special session proceeding *Noise Characterization and Error Mitigation in Near-Term Quantum Computers*."
   ]
  },
  {
   "cell_type": "markdown",
   "metadata": {},
   "source": [
    "## 3. Measurement Error Characterization\n",
    "\n",
    "This notebook demonstrates performing measurement error characterization on a 4-qubit subset of an IBM Quantum device using the continous-time Markov Process (CTPM) error mitigation technique."
   ]
  },
  {
   "cell_type": "code",
   "execution_count": 1,
   "metadata": {},
   "outputs": [],
   "source": [
    "# Qiskit Module\n",
    "import qiskit\n",
    "import qiskit.quantum_info as qi\n",
    "import qiskit.ignis.mitigation as mit\n",
    "\n",
    "# Noisy Simulation\n",
    "from qiskit.providers.aer import QasmSimulator\n",
    "from qiskit.providers.aer.noise import NoiseModel\n",
    "\n",
    "# File utilities for saving and loading JSON data\n",
    "from file_utils import save_to_json, load_properties, load_result\n",
    "\n",
    "# Other\n",
    "from pprint import pprint\n",
    "import numpy as np\n",
    "import matplotlib.pyplot as plt"
   ]
  },
  {
   "cell_type": "markdown",
   "metadata": {},
   "source": [
    "## Measurement Error Characterization\n",
    "\n",
    "Measurement error characterization circuits can be generated using the `mitigation` module of *qiskit-ignis*. To characterize measurement error we select the set of all weight-2 computational basis input states on 4-qubits, along with the all-0 and all-1 states,"
   ]
  },
  {
   "cell_type": "code",
   "execution_count": 2,
   "metadata": {},
   "outputs": [],
   "source": [
    "labels = ['0000', '0011', '0101', '1001', '0110', '1010', '1100', '1111']\n",
    "circuits, metadata = mit.expval_meas_mitigator_circuits(4, labels=labels)"
   ]
  },
  {
   "cell_type": "markdown",
   "metadata": {},
   "source": [
    "### Run Experiment\n",
    "\n",
    "Next execute the circuits on the IBM Quantum Boeblingen backend. You may change this to run on any IBM Quantum backend you have access to."
   ]
  },
  {
   "cell_type": "code",
   "execution_count": 3,
   "metadata": {},
   "outputs": [],
   "source": [
    "use_saved_data = True\n",
    "file_properties = 'data/properties_meas_v1.json'\n",
    "file_result = 'data/result_meas_v1.json'\n",
    "\n",
    "if use_saved_data:\n",
    "\n",
    "    # Load saved result data from file\n",
    "    result_backend = load_result(file_result)\n",
    "\n",
    "    # Load saved properties from file\n",
    "    properties = load_properties(file_properties)\n",
    "\n",
    "else:\n",
    "\n",
    "    # Load IBMQ Account data\n",
    "    from qiskit import IBMQ\n",
    "    IBMQ.load_account()\n",
    "\n",
    "    # Get backend for experiment\n",
    "    provider = IBMQ.get_provider(project='ignis')\n",
    "    backend = provider.get_backend('ibmq_boeblingen')\n",
    "\n",
    "    # Run QPT on backend\n",
    "    shots = 8192\n",
    "    job_backend = qiskit.execute(circuits, backend, shots=shots)\n",
    "    print('Job ID: {}'.format(job_backend.job_id()))\n",
    "\n",
    "    # Save a copy of the backend properties to file\n",
    "    properties = backend.properties()\n",
    "    save_to_json(properties, file_properties)\n",
    "          \n",
    "    # Retrieve results (this may take a while depending on the queue)\n",
    "    result_backend = job_backend.result()\n",
    "    \n",
    "    # Save a copy of the result data to file\n",
    "    save_to_json(result_backend, file_result)    "
   ]
  },
  {
   "cell_type": "markdown",
   "metadata": {},
   "source": [
    "### Run Simulation\n",
    "\n",
    "Next we run the characterization experiment using the Qiskit Aer simulator with the basic device noise model based on the backend used to run the experiment"
   ]
  },
  {
   "cell_type": "code",
   "execution_count": 4,
   "metadata": {},
   "outputs": [],
   "source": [
    "# Simulator backend\n",
    "simulator = QasmSimulator()\n",
    "shots = 8192\n",
    "seed_simulator = 1984\n",
    "\n",
    "# Noise Model\n",
    "noise_model = NoiseModel.from_backend(properties, warnings=False)\n",
    "\n",
    "# Run simulation\n",
    "result_sim = qiskit.execute(circuits,\n",
    "                            simulator,\n",
    "                            shots=shots,\n",
    "                            seed_simulator=seed_simulator,\n",
    "                            basis_gates=noise_model.basis_gates,\n",
    "                            noise_model=noise_model).result()"
   ]
  },
  {
   "cell_type": "markdown",
   "metadata": {},
   "source": [
    "### Fitting Results\n",
    "\n",
    "Next we perform the measurement mitigator fit of the calibration data. This is done using the `MeasMitigatorFitter`."
   ]
  },
  {
   "cell_type": "code",
   "execution_count": 5,
   "metadata": {},
   "outputs": [],
   "source": [
    "mitigator_backend = mit.ExpvalMeasMitigatorFitter(\n",
    "    result_backend, metadata).fit(method='CTMP')\n",
    "\n",
    "mitigator_sim = mit.ExpvalMeasMitigatorFitter(\n",
    "    result_sim, metadata).fit(method='CTMP')"
   ]
  },
  {
   "cell_type": "markdown",
   "metadata": {},
   "source": [
    "### Single-qubit Measurement Errors\n",
    "\n",
    "From the mitigator we can compute the estimated single qubit measurement errors from the single-qubit $A$ matrices."
   ]
  },
  {
   "cell_type": "code",
   "execution_count": 6,
   "metadata": {},
   "outputs": [
    {
     "name": "stdout",
     "output_type": "stream",
     "text": [
      "Single-qubit readout errors\n",
      "ibmq_boeblingen\n",
      "P(1|0) = [0.006, 0.005, 0.006, 0.012]\n",
      "P(0|1) = [0.031, 0.034, 0.053, 0.034]\n",
      "simulated\n",
      "P(1|0) = [0.014, 0.01, 0.013, 0.011]\n",
      "P(0|1) = [0.029, 0.06, 0.053, 0.028]\n"
     ]
    }
   ],
   "source": [
    "a1q_b = [mitigator_backend.assignment_matrix([i]) for i in range(4)]\n",
    "a1q_s = [mitigator_sim.assignment_matrix([i]) for i in range(4)]\n",
    "p0g1_b = [round(a[0, 1], 3) for a in a1q_b]\n",
    "p1g0_b = [round(a[1, 0], 3) for a in a1q_b]\n",
    "p0g1_s = [round(a[0, 1], 3) for a in a1q_s]\n",
    "p1g0_s = [round(a[1, 0], 3) for a in a1q_s]\n",
    "\n",
    "print('Single-qubit readout errors')\n",
    "print(properties.backend_name)\n",
    "print('P(1|0) = {}'.format(p1g0_b))\n",
    "print('P(0|1) = {}'.format(p0g1_b))\n",
    "\n",
    "print('simulated')\n",
    "print('P(1|0) = {}'.format(p1g0_s))\n",
    "print('P(0|1) = {}'.format(p0g1_s))"
   ]
  },
  {
   "cell_type": "markdown",
   "metadata": {},
   "source": [
    "### Measurement Error Plot\n",
    "\n",
    "To visualize the error of the calibrated mitigator we plot the absolute difference of the *assignment matrix* with the ideal case of the identity matrix $|A - I|$"
   ]
  },
  {
   "cell_type": "code",
   "execution_count": 7,
   "metadata": {},
   "outputs": [
    {
     "data": {
      "image/png": "[encoded data removed]",
      "text/plain": [
       "<Figure size 756x288 with 3 Axes>"
      ]
     },
     "metadata": {
      "needs_background": "light"
     },
     "output_type": "display_data"
    }
   ],
   "source": [
    "diff_b = np.abs(mitigator_backend.assignment_matrix() - np.eye(16))\n",
    "diff_s = np.abs(mitigator_sim.assignment_matrix() - np.eye(16))\n",
    "\n",
    "fig, axes = plt.subplots(nrows=1, ncols=2, figsize=(10.5, 4))\n",
    "\n",
    "im2 = axes.flat[0].matshow(diff_b, cmap=plt.cm.Reds, vmin=0, vmax=0.2)\n",
    "im2 = axes.flat[1].matshow(diff_s, cmap=plt.cm.Reds, vmin=0, vmax=0.2)\n",
    "\n",
    "for ax in axes.flat:\n",
    "    ax.set_yticks(np.arange(16))\n",
    "    ax.set_xticks(np.arange(16))\n",
    "    ax.set_yticklabels(16 * [''])\n",
    "    ax.set_xticklabels(16 * [''])\n",
    "axes.flat[0].set_xlabel(r'$|A - I|$ Experiment', fontsize=16)\n",
    "axes.flat[1].set_xlabel(r'$|A - I|$ Simulated', fontsize=16)\n",
    "\n",
    "fig.colorbar(im2, ax=axes.ravel().tolist())\n",
    "fig.savefig('figures/amat_error.png', dpi=150)\n",
    "plt.show()"
   ]
  },
  {
   "cell_type": "code",
   "execution_count": 8,
   "metadata": {},
   "outputs": [
    {
     "data": {
      "text/html": [
       "<h3>Version Information</h3><table><tr><th>Qiskit Software</th><th>Version</th></tr><tr><td>Qiskit</td><td>None</td></tr><tr><td>Terra</td><td>0.15.2</td></tr><tr><td>Aer</td><td>0.6.1</td></tr><tr><td>Ignis</td><td>0.5.0</td></tr><tr><td>Aqua</td><td>None</td></tr><tr><td>IBM Q Provider</td><td>0.8.0</td></tr><tr><th>System information</th></tr><tr><td>Python</td><td>3.7.9 (default, Aug 31 2020, 07:22:35) \n",
       "[Clang 10.0.0 ]</td></tr><tr><td>OS</td><td>Darwin</td></tr><tr><td>CPUs</td><td>6</td></tr><tr><td>Memory (Gb)</td><td>32.0</td></tr><tr><td colspan='2'>Wed Sep 23 13:43:54 2020 EDT</td></tr></table>"
      ],
      "text/plain": [
       "<IPython.core.display.HTML object>"
      ]
     },
     "metadata": {},
     "output_type": "display_data"
    }
   ],
   "source": [
    "import qiskit.tools.jupyter\n",
    "%qiskit_version_table"
   ]
  }
 ],
 "metadata": {
  "kernelspec": {
   "display_name": "Python [conda env:ncemntqc]",
   "language": "python",
   "name": "conda-env-ncemntqc-py"
  },
  "language_info": {
   "codemirror_mode": {
    "name": "ipython",
    "version": 3
   },
   "file_extension": ".py",
   "mimetype": "text/x-python",
   "name": "python",
   "nbconvert_exporter": "python",
   "pygments_lexer": "ipython3",
   "version": "3.7.9"
  }
 },
 "nbformat": 4,
 "nbformat_minor": 4
}
