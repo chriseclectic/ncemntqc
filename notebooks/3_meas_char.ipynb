{
 "cells": [
  {
   "cell_type": "markdown",
   "metadata": {},
   "source": [
    "# Special Session: Noise Characterization and Error Mitigation in Near-Term Quanutm Computers\n",
    "\n",
    "* Christopher J. Wood (cjwood@us.ibm.com)\n",
    "* IBM Quantum, T. J. Watson Research Center, Yorktown Heights, USA\n",
    "\n",
    "This notebook contains the accompanying code to the ICCD 2020 special session proceeding *Noise Characterization and Error Mitigation in Near-Term Quantum Computers*."
   ]
  },
  {
   "cell_type": "markdown",
   "metadata": {},
   "source": [
    "## 3. Measurement Error Characterization\n",
    "\n",
    "This notebook demonstrates performing measurement error characterization on a 4-qubit subset of an IBM Quantum device using the continous-time Markov Process (CTPM) error mitigation technique.\n",
    "\n",
    "*Note: this uses code in a development branch of qiskit-ignis. This branch can be installed using the `environment.yml` or `requirements.txt` file in this repository.*"
   ]
  },
  {
   "cell_type": "code",
   "execution_count": null,
   "metadata": {},
   "outputs": [],
   "source": [
    "# Qiskit Module\n",
    "import qiskit\n",
    "import qiskit.quantum_info as qi\n",
    "import qiskit.ignis.mitigation as mit\n",
    "\n",
    "# Noisy Simulation\n",
    "from qiskit.providers.aer import QasmSimulator\n",
    "from qiskit.providers.aer.noise import NoiseModel\n",
    "\n",
    "# File utilities for saving and loading JSON data\n",
    "from file_utils import save_to_json, load_properties, load_result\n",
    "\n",
    "# Other\n",
    "from pprint import pprint\n",
    "import numpy as np\n",
    "import matplotlib.pyplot as plt"
   ]
  },
  {
   "cell_type": "markdown",
   "metadata": {},
   "source": [
    "## Measurement Error Characterization\n",
    "\n",
    "Measurement error characterization circuits can be generated using the `mitigation` module of *qiskit-ignis*. To characterize measurement error we select the set of all weight-2 computational basis input states on 4-qubits, along with the all-0 and all-1 states,"
   ]
  },
  {
   "cell_type": "code",
   "execution_count": null,
   "metadata": {},
   "outputs": [],
   "source": [
    "labels = ['0000', '0011', '0101', '1001', '0110', '1010', '1100', '1111']\n",
    "circuits, metadata, _ = mit.MeasMitigatorGenerator(4, labels=labels).run()"
   ]
  },
  {
   "cell_type": "markdown",
   "metadata": {},
   "source": [
    "### Run Experiment\n",
    "\n",
    "Next execute the circuits on the IBM Quantum Boeblingen backend. You may change this to run on any IBM Quantum backend you have access to."
   ]
  },
  {
   "cell_type": "code",
   "execution_count": null,
   "metadata": {},
   "outputs": [],
   "source": [
    "use_saved_data = True\n",
    "file_properties = 'data/properties_meas_v1.json'\n",
    "file_result = 'data/result_meas_v1.json'\n",
    "\n",
    "if use_saved_data:\n",
    "\n",
    "    # Load saved result data from file\n",
    "    result_backend = load_result(file_result)\n",
    "\n",
    "    # Load saved properties from file\n",
    "    properties = load_properties(file_properties)\n",
    "\n",
    "else:\n",
    "\n",
    "    # Load IBMQ Account data\n",
    "    from qiskit import IBMQ\n",
    "    IBMQ.load_account()\n",
    "\n",
    "    # Get backend for experiment\n",
    "    provider = IBMQ.get_provider(project='ignis')\n",
    "    backend = provider.get_backend('ibmq_boeblingen')\n",
    "\n",
    "    # Run QPT on backend\n",
    "    shots = 8192\n",
    "    job_backend = qiskit.execute(circuits, backend, shots=shots)\n",
    "    print('Job ID: {}'.format(job_backend.job_id()))\n",
    "\n",
    "    # Save a copy of the backend properties to file\n",
    "    properties = backend.properties()\n",
    "    save_to_json(properties, file_properties)\n",
    "          \n",
    "    # Retrieve results (this may take a while depending on the queue)\n",
    "    result_backend = job_backend.result()\n",
    "    \n",
    "    # Save a copy of the result data to file\n",
    "    save_to_json(result_backend, file_result)    "
   ]
  },
  {
   "cell_type": "markdown",
   "metadata": {},
   "source": [
    "### Run Simulation\n",
    "\n",
    "Next we run the characterization experiment using the Qiskit Aer simulator with the basic device noise model based on the backend used to run the experiment"
   ]
  },
  {
   "cell_type": "code",
   "execution_count": null,
   "metadata": {},
   "outputs": [],
   "source": [
    "# Simulator backend\n",
    "simulator = QasmSimulator()\n",
    "shots = 8192\n",
    "seed_simulator = 1984\n",
    "\n",
    "# Noise Model\n",
    "noise_model = NoiseModel.from_backend(properties, warnings=False)\n",
    "\n",
    "# Run simulation\n",
    "result_sim = qiskit.execute(circuits,\n",
    "                            simulator,\n",
    "                            shots=shots,\n",
    "                            seed_simulator=seed_simulator,\n",
    "                            basis_gates=noise_model.basis_gates,\n",
    "                            noise_model=noise_model).result()"
   ]
  },
  {
   "cell_type": "markdown",
   "metadata": {},
   "source": [
    "### Fitting Results\n",
    "\n",
    "Next we perform the measurement mitigator fit of the calibration data. This is done using the `MeasMitigatorFitter`."
   ]
  },
  {
   "cell_type": "code",
   "execution_count": null,
   "metadata": {},
   "outputs": [],
   "source": [
    "mitigator_backend = mit.MeasMitigatorFitter(\n",
    "    result_backend, metadata).fit(method='CTMP')\n",
    "\n",
    "mitigator_sim = mit.MeasMitigatorFitter(\n",
    "    result_sim, metadata).fit(method='CTMP')"
   ]
  },
  {
   "cell_type": "markdown",
   "metadata": {},
   "source": [
    "### Single-qubit Assignment Fidelities\n",
    "\n",
    "From the mitigator we can compute the estimated assignment fidelities for measurements of a subset of qubits. The estimated single-qubit assignment fidelities are given by"
   ]
  },
  {
   "cell_type": "code",
   "execution_count": null,
   "metadata": {},
   "outputs": [],
   "source": [
    "F_meas_1q_backend = [mitigator_backend.assignment_fidelity([i]) for i in range(4)]\n",
    "F_meas_1q_sim = [mitigator_sim.assignment_fidelity([i]) for i in range(4)]\n",
    "\n",
    "print('Single-qubit assignment fidelities')\n",
    "print('{}: {}'.format(properties.backend_name,\n",
    "                      np.round(F_meas_1q_backend, 3).tolist()))\n",
    "print('simulated: {}'.format(np.round(F_meas_1q_sim, 3).tolist()))"
   ]
  },
  {
   "cell_type": "markdown",
   "metadata": {},
   "source": [
    "### Measurement Error Plot\n",
    "\n",
    "To visualize the error of the calibrated mitigator we plot the absolute difference of the *assignment matrix* with the ideal case of the identity matrix $|A - I|$"
   ]
  },
  {
   "cell_type": "code",
   "execution_count": null,
   "metadata": {},
   "outputs": [],
   "source": [
    "diff_b = np.abs(mitigator_backend.assignment_matrix() - np.eye(16))\n",
    "diff_s = np.abs(mitigator_sim.assignment_matrix() - np.eye(16))\n",
    "\n",
    "fig, axes = plt.subplots(nrows=1, ncols=2, figsize=(10.5, 4))\n",
    "\n",
    "im2 = axes.flat[0].matshow(diff_b, cmap=plt.cm.Reds, vmin=0, vmax=0.2)\n",
    "im2 = axes.flat[1].matshow(diff_s, cmap=plt.cm.Reds, vmin=0, vmax=0.2)\n",
    "\n",
    "for ax in axes.flat:\n",
    "    ax.set_yticks(np.arange(16))\n",
    "    ax.set_xticks(np.arange(16))\n",
    "    ax.set_yticklabels(16 * [''])\n",
    "    ax.set_xticklabels(16 * [''])\n",
    "axes.flat[0].set_xlabel(r'$|A - I|$ Experiment', fontsize=16)\n",
    "axes.flat[1].set_xlabel(r'$|A - I|$ Simulated', fontsize=16)\n",
    "\n",
    "fig.colorbar(im2, ax=axes.ravel().tolist())\n",
    "fig.savefig('figures/amat_error.png', dpi=150)\n",
    "plt.show()"
   ]
  },
  {
   "cell_type": "code",
   "execution_count": null,
   "metadata": {},
   "outputs": [],
   "source": [
    "import qiskit.tools.jupyter\n",
    "%qiskit_version_table"
   ]
  }
 ],
 "metadata": {
  "kernelspec": {
   "display_name": "Python [conda env:ncemntqc]",
   "language": "python",
   "name": "conda-env-ncemntqc-py"
  },
  "language_info": {
   "codemirror_mode": {
    "name": "ipython",
    "version": 3
   },
   "file_extension": ".py",
   "mimetype": "text/x-python",
   "name": "python",
   "nbconvert_exporter": "python",
   "pygments_lexer": "ipython3",
   "version": "3.7.9"
  }
 },
 "nbformat": 4,
 "nbformat_minor": 4
}
