{
 "cells": [
  {
   "cell_type": "markdown",
   "metadata": {},
   "source": [
    "# Special Session: Noise Characterization and Error Mitigation in Near-Term Quanutm Computers\n",
    "\n",
    "* Christopher J. Wood (cjwood@us.ibm.com)\n",
    "* IBM Quantum, T. J. Watson Research Center, Yorktown Heights, USA\n",
    "\n",
    "This notebook contains the accompanying code to the ICCD 2020 special session proceeding *Noise Characterization and Error Mitigation in Near-Term Quantum Computers*."
   ]
  },
  {
   "cell_type": "markdown",
   "metadata": {},
   "source": [
    "## 1. Interleaved Randomized Benchmarking\n",
    "\n",
    "This notebook demonstrates performing interleaved randomized benchmarking (RB) of a a 2-qubit Controlled-NOT (CX) gate."
   ]
  },
  {
   "cell_type": "code",
   "execution_count": null,
   "metadata": {},
   "outputs": [],
   "source": [
    "# Qiskit Module\n",
    "import qiskit\n",
    "import qiskit.quantum_info as qi\n",
    "import qiskit.ignis.verification.randomized_benchmarking as rb\n",
    "\n",
    "# Noisy Simulation\n",
    "from qiskit.providers.aer import QasmSimulator\n",
    "from qiskit.providers.aer.noise import NoiseModel\n",
    "\n",
    "# File utilities for saving and loading JSON data\n",
    "from file_utils import save_to_json, load_properties, load_result\n",
    "\n",
    "# Other\n",
    "from pprint import pprint\n",
    "import numpy as np\n",
    "import matplotlib.pyplot as plt"
   ]
  },
  {
   "cell_type": "markdown",
   "metadata": {},
   "source": [
    "### Interleaved RB Circuit Generation\n",
    "\n",
    "First we generate the random input circuits for performing interleaved RB using the `randomized_benchmarking` moduel of *qiskit-ignis*."
   ]
  },
  {
   "cell_type": "code",
   "execution_count": null,
   "metadata": {},
   "outputs": [],
   "source": [
    "# IRB Params\n",
    "clifford_seqs = np.arange(1, 200, 20)  # sequence lengths\n",
    "num_seeds = 20  # Number of random sequences per length\n",
    "rng_seed = 772\n",
    "\n",
    "# Interleaved Gate (CX)\n",
    "cx = qiskit.circuit.library.CXGate()\n",
    "cx = qiskit.QuantumCircuit(2).compose(cx, [0, 1])\n",
    "\n",
    "# Generate RB circuits\n",
    "rb_circs, xdata, irb_circs = rb.randomized_benchmarking_seq(\n",
    "    num_seeds, clifford_seqs,\n",
    "    rb_pattern=[[0, 1]],\n",
    "    interleaved_elem=[cx],\n",
    "    rand_seed=rng_seed)"
   ]
  },
  {
   "cell_type": "markdown",
   "metadata": {},
   "source": [
    "### Run Experiment\n",
    "\n",
    "Next execute the circuits on the IBM Quantum Boeblingen backend. You may change this to run on any IBM Quantum backend you have access to."
   ]
  },
  {
   "cell_type": "code",
   "execution_count": null,
   "metadata": {},
   "outputs": [],
   "source": [
    "use_saved_data = True\n",
    "file_properties = 'data/properties_irb_v1.json'\n",
    "file_result_rb = 'data/results_rb_v1.json'\n",
    "file_result_irb = 'data/results_irb_v1.json'\n",
    "\n",
    "if use_saved_data:\n",
    "\n",
    "    # Load saved result data from file\n",
    "    results_rb_backend = load_result(file_result_rb)\n",
    "    results_irb_backend = load_result(file_result_irb)\n",
    "\n",
    "    # Load saved properties from file\n",
    "    properties = load_properties(file_properties)\n",
    "\n",
    "else:\n",
    "\n",
    "    # Load IBMQ Account data\n",
    "    from qiskit import IBMQ\n",
    "    IBMQ.load_account()\n",
    "\n",
    "    # Get backend for experiment\n",
    "    provider = IBMQ.get_provider(project='ignis')\n",
    "    backend = provider.get_backend('ibmq_boeblingen')\n",
    "\n",
    "    # Run on backend\n",
    "    shots = 1024\n",
    "    jobs_rb = []\n",
    "    jobs_irb = []\n",
    "    for i in range(num_seeds):\n",
    "        rb_job = qiskit.execute(rb_circs[i], backend, shots=shots)\n",
    "        jobs_rb.append(rb_job)\n",
    "\n",
    "        irb_job = qiskit.execute(irb_circs[i], backend, shots=shots)\n",
    "        jobs_irb.append(irb_job)\n",
    "    print('RB Jobs: {}'.format([job.job_id() for job in jobs_rb]))\n",
    "    print('IRB Jobs: {}'.format([job.job_id() for job in jobs_irb]))\n",
    "\n",
    "    # Save a copy of the backend properties to file\n",
    "    properties = backend.properties()\n",
    "    save_to_json(properties, file_properties)\n",
    "          \n",
    "    # Retrieve RB results (this may take a while depending on the queue)\n",
    "    results_rb_backend = [job.result() for job in jobs_rb]\n",
    "    results_irb_backend = [job.result() for job in jobs_irb]\n",
    "\n",
    "    # Save a copy of the result data to file\n",
    "    save_to_json(results_rb_backend, file_result_rb)\n",
    "    save_to_json(results_irb_backend, file_result_irb)"
   ]
  },
  {
   "cell_type": "markdown",
   "metadata": {},
   "source": [
    "### Run Simulation\n",
    "\n",
    "Next we run the interleaved RB experiment using the Qiskit Aer simulator with the basic device noise model based on the backend used to run the experiment"
   ]
  },
  {
   "cell_type": "code",
   "execution_count": null,
   "metadata": {},
   "outputs": [],
   "source": [
    "# Simulator backend\n",
    "simulator = QasmSimulator()\n",
    "shots = 1024\n",
    "seed_simulator = 12345\n",
    "\n",
    "# Noise Model\n",
    "noise_model = NoiseModel.from_backend(properties, warnings=False)\n",
    "\n",
    "results_rb_sim = []\n",
    "results_irb_sim = []\n",
    "for i in range(num_seeds):\n",
    "\n",
    "    # Execute RB circuits\n",
    "    rb_result = qiskit.execute(rb_circs[i], simulator,\n",
    "                               shots=shots,\n",
    "                               seed_simulator=seed_simulator,\n",
    "                               basis_gates=noise_model.basis_gates,\n",
    "                               noise_model=noise_model).result()\n",
    "    results_rb_sim.append(rb_result)\n",
    "    \n",
    "    # Execute IRB circuits\n",
    "    irb_result = qiskit.execute(irb_circs[i], simulator,\n",
    "                                shots=shots,\n",
    "                                seed_simulator=seed_simulator,\n",
    "                                basis_gates=noise_model.basis_gates,\n",
    "                                noise_model=noise_model).result()\n",
    "    results_irb_sim.append(irb_result)"
   ]
  },
  {
   "cell_type": "markdown",
   "metadata": {},
   "source": [
    "## Fitting Results\n",
    "\n",
    "Next we perform the analysis of the experiment results to fit the exponential decay curves and compute the average gate fidelity of the gate set and interleaved gate. This is done using the `InterleavedRBFitter` class.\n",
    "\n",
    "### Fitting Experiment Data"
   ]
  },
  {
   "cell_type": "code",
   "execution_count": null,
   "metadata": {},
   "outputs": [],
   "source": [
    "# Load data into fitter\n",
    "rbfit_backend = rb.fitters.InterleavedRBFitter(\n",
    "    results_rb_backend[0], results_irb_sim[0], xdata, [[0, 1]])\n",
    "for i in range(1, num_seeds):\n",
    "    rbfit_backend.add_data(results_rb_backend[i], results_irb_backend[i])\n",
    "    \n",
    "# Perform fit\n",
    "fit_result_backend = rbfit_backend.fit_int[0]\n",
    "\n",
    "# Generator fit plot\n",
    "fig = plt.figure(figsize=(8, 5)) \n",
    "ax = fig.add_subplot(111)\n",
    "rbfit_backend.plot_rb_data(ax=ax)\n",
    "fig.savefig('figures/irb_cx_gate.png', dpi=150)"
   ]
  },
  {
   "cell_type": "markdown",
   "metadata": {},
   "source": [
    "### Fitting Simulated Data"
   ]
  },
  {
   "cell_type": "code",
   "execution_count": null,
   "metadata": {},
   "outputs": [],
   "source": [
    "# Load data into fitter\n",
    "rbfit_sim = rb.fitters.InterleavedRBFitter(\n",
    "    results_rb_sim[0], results_irb_sim[0], xdata, [[0, 1]])\n",
    "for i in range(1, num_seeds):\n",
    "    rbfit_sim.add_data(results_rb_sim[i], results_irb_backend[i])\n",
    "\n",
    "# Perform fit\n",
    "fit_result_sim = rbfit_sim.fit_int[0]\n",
    "\n",
    "# Generator fit plot\n",
    "fig = plt.figure(figsize=(8, 5)) \n",
    "ax = fig.add_subplot(111)\n",
    "rbfit_sim.plot_rb_data(ax=ax)"
   ]
  },
  {
   "cell_type": "markdown",
   "metadata": {},
   "source": [
    "## Interleaved Gate Fidelity\n",
    "\n",
    "From the fit parameters we can extract the estimated average gate fidelity and error of the interleaved gate"
   ]
  },
  {
   "cell_type": "code",
   "execution_count": null,
   "metadata": {},
   "outputs": [],
   "source": [
    "F_backend = 1 - fit_result_backend['epc_est']\n",
    "F_err_backend = fit_result_backend['epc_est_err']\n",
    "\n",
    "F_sim = 1 - fit_result_sim['epc_est']\n",
    "F_err_sim = fit_result_sim['epc_est_err'] \n",
    "\n",
    "print('Average Gate Fidelity\\n')\n",
    "print('F({}) = {:.4f} \\u00B1 {:.4f}'.format(\n",
    "    properties.backend_name, F_backend, F_err_backend))\n",
    "print('F(simulator) = {:.4f} \\u00B1 {:.4f}'.format(\n",
    "    F_sim, F_err_sim))"
   ]
  },
  {
   "cell_type": "markdown",
   "metadata": {},
   "source": [
    "#### Backend reported gate fidelity\n",
    "\n",
    "We can compare the above to the reported average gate fidelity of the CX gate in the backend properties"
   ]
  },
  {
   "cell_type": "code",
   "execution_count": null,
   "metadata": {},
   "outputs": [],
   "source": [
    "F_properties = 1 - properties.gate_error('cx', [0, 1])\n",
    "print('F({}, properties) = {:.3f}'.format(properties.backend_name, F_properties))"
   ]
  },
  {
   "cell_type": "code",
   "execution_count": null,
   "metadata": {},
   "outputs": [],
   "source": [
    "import qiskit.tools.jupyter\n",
    "%qiskit_version_table"
   ]
  }
 ],
 "metadata": {
  "kernelspec": {
   "display_name": "Python [conda env:ncemntqc]",
   "language": "python",
   "name": "conda-env-ncemntqc-py"
  },
  "language_info": {
   "codemirror_mode": {
    "name": "ipython",
    "version": 3
   },
   "file_extension": ".py",
   "mimetype": "text/x-python",
   "name": "python",
   "nbconvert_exporter": "python",
   "pygments_lexer": "ipython3",
   "version": "3.7.9"
  }
 },
 "nbformat": 4,
 "nbformat_minor": 4
}
